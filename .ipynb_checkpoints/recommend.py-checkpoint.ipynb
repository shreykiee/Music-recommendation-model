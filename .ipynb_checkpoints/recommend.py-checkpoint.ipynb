{
 "cells": [
  {
   "cell_type": "code",
   "execution_count": 3,
   "id": "78c22c5c-02c2-427a-9677-5aa30bf90b04",
   "metadata": {},
   "outputs": [],
   "source": [
    "import pandas as pd\n",
    "from sklearn.feature_extraction.text import TfidfVectorizer\n",
    "from sklearn.metrics.pairwise import cosine_similarity\n",
    "import numpy as np\n",
    "\n",
    "# Example data for two songs with missing values\n",
    "import pandas as pd\n",
    "import json\n",
    "\n",
    "# Load data from the text file\n",
    "with open('song_data.txt', 'r') as file:\n",
    "    data = json.load(file)\n",
    "\n",
    "# Create a DataFrame\n",
    "df = pd.DataFrame(data)\n",
    "\n",
    "# Replace missing values with \"unknown\" and ensure dtype compatibility\n",
    "df = df.astype({\n",
    "    'artist': 'object',\n",
    "    'album': 'object',\n",
    "    'genre': 'object',\n",
    "    'Language': 'object'\n",
    "})\n",
    "df.fillna(\"unknown\", inplace=True)"
   ]
  },
  {
   "cell_type": "code",
   "execution_count": 4,
   "id": "72bce4c0-2d4f-4233-8613-d8ba303df9b3",
   "metadata": {},
   "outputs": [
    {
     "name": "stdout",
     "output_type": "stream",
     "text": [
      "Recommendations for song ID 1 :\n",
      "['17', '166', '124', '144', '97', '30', '75', '164', '109', '137']\n"
     ]
    }
   ],
   "source": [
    "# Vectorize categorical features: artist, album, genre, language\n",
    "tfidf_artist = TfidfVectorizer()\n",
    "tfidf_album = TfidfVectorizer()\n",
    "tfidf_genre = TfidfVectorizer()\n",
    "tfidf_language = TfidfVectorizer()\n",
    "\n",
    "# Fit and transform each feature individually\n",
    "artist_matrix = tfidf_artist.fit_transform(df['artist'].astype(str))  # Ensure strings\n",
    "album_matrix = tfidf_album.fit_transform(df['album'].astype(str))      # Ensure strings\n",
    "genre_matrix = tfidf_genre.fit_transform(df['genre'].astype(str))      # Ensure strings\n",
    "language_matrix = tfidf_language.fit_transform(df['Language'].astype(str))  # Ensure strings\n",
    "\n",
    "# Combine all TF-IDF matrices into a single matrix\n",
    "combined_features = np.hstack([artist_matrix.toarray(), \n",
    "                               album_matrix.toarray(),\n",
    "                               genre_matrix.toarray(),\n",
    "                               language_matrix.toarray()])\n",
    "\n",
    "\n",
    "# Include numerical features such as duration and likesCount\n",
    "numerical_features = df[['duration', 'likesCount']].fillna(0).to_numpy()\n",
    "\n",
    "# Combine TF-IDF features with numerical features\n",
    "combined_features = np.hstack([combined_features, numerical_features])\n",
    "\n",
    "# Calculate cosine similarity between all pairs of songs\n",
    "cosine_sim = cosine_similarity(combined_features, combined_features)\n",
    "\n",
    "# Function to get recommendations based on song ID\n",
    "def get_recommendations(song_id, cosine_sim, df):\n",
    "    # Get index of the song\n",
    "    idx = df.index[df['_id'] == song_id].tolist()[0]\n",
    "    \n",
    "    # Get pairwise similarity scores with all other songs\n",
    "    sim_scores = list(enumerate(cosine_sim[idx]))\n",
    "    \n",
    "    # Sort the songs based on similarity scores\n",
    "    sim_scores = sorted(sim_scores, key=lambda x: x[1], reverse=True)\n",
    "    \n",
    "    # Get the top 10 recommendations (excluding itself)\n",
    "    sim_scores = sim_scores[1:11]\n",
    "    \n",
    "    # Get the indices of recommended songs\n",
    "    song_indices = [i[0] for i in sim_scores]\n",
    "    \n",
    "    # Return the top 10 most similar song IDs\n",
    "    return df.iloc[song_indices]['_id'].tolist()\n",
    "\n",
    "# Example usage: Get recommendations for a song ID\n",
    "song_id = \"2\"  # Replace with actual song ID\n",
    "recommendations = get_recommendations(song_id, cosine_sim, df)\n",
    "print(\"Recommendations for song ID\", song_id, \":\")\n",
    "print(recommendations)\n",
    "\n",
    "\n",
    "\n"
   ]
  },
  {
   "cell_type": "code",
   "execution_count": null,
   "id": "66700eea-0799-4bb3-93c9-fd3eb46b03ef",
   "metadata": {},
   "outputs": [],
   "source": []
  }
 ],
 "metadata": {
  "kernelspec": {
   "display_name": "Python 3 (ipykernel)",
   "language": "python",
   "name": "python3"
  },
  "language_info": {
   "codemirror_mode": {
    "name": "ipython",
    "version": 3
   },
   "file_extension": ".py",
   "mimetype": "text/x-python",
   "name": "python",
   "nbconvert_exporter": "python",
   "pygments_lexer": "ipython3",
   "version": "3.11.7"
  }
 },
 "nbformat": 4,
 "nbformat_minor": 5
}
